{
 "cells": [
  {
   "cell_type": "code",
   "execution_count": 14,
   "id": "ced26be0-2329-457f-8702-64939698d52b",
   "metadata": {},
   "outputs": [],
   "source": [
    "import os as os\n",
    "from datetime import datetime,timedelta"
   ]
  },
  {
   "cell_type": "code",
   "execution_count": 35,
   "id": "bcec0eef-86ac-4d4b-9aaf-c5a0e133ce7a",
   "metadata": {},
   "outputs": [
    {
     "name": "stdout",
     "output_type": "stream",
     "text": [
      "Current Directory:  <built-in function getcwd>\n",
      "Current Directory after directory change:  C:\\Users\\user\\Desktop\n",
      "Files inside Directory:  ['Apr 2024 Consolidated Stats.xlsx', 'BUMC_FY24 Monthly Bed Report.xlsx', 'desktop.ini', 'Gen_AI Coed', 'HealthCare Basics.txt', 'Laundry_MASTER_FY2024.xlsx', 'Manual JE Codes', 'Mapping Tabs for Lawson v5-16-24.xlsx', 'Month End Numbers April 24.xlsx', 'OUTREACH RVU FY24.xlsx', 'pat April 2024 numbers.xlsx', 'Scorecard FY24(5140.10590).xlsx', 'TouchStone_RVUs-Extract.xlsx', 'Transport Volumes Monthly FY2024.xlsx']\n",
      "Constructed Source filename: 2024 MRVU April.xlsx\n",
      "Constructed Destination filename: Apr 2024 Consolidated Stats.xlsx\n",
      "Source filename not found in directory.\n",
      "Destination filename found in directory: Apr 2024 Consolidated Stats.xlsx\n",
      "Manual JE process starts from here.\n"
     ]
    }
   ],
   "source": [
    "current_dir=os.getcwd\n",
    "print(\"Current Directory: \",current_dir)\n",
    "new_dir=r'C:\\\\Users\\\\user\\\\Desktop'\n",
    "os.chdir(new_dir)\n",
    "current_dir=os.getcwd()\n",
    "print(\"Current Directory after directory change: \",current_dir)\n",
    "Files_inside_dir=os.listdir()\n",
    "print(\"Files inside Directory: \",Files_inside_dir)\n",
    "# Get the current month and year\n",
    "current_date = datetime.now()\n",
    "prev_month = prev_month_date.strftime(\"%B\") \n",
    "prev_month_short = prev_month_date.strftime(\"%b\") \n",
    "current_year = current_date.strftime(\"%Y\")\n",
    "current_year_short = current_date.strftime(\"%y\")\n",
    "# Construct the Destination and source filename\n",
    "#file_s = f\"Month End Numbers {prev_month} {current_year_short}.xlsx\"\n",
    "#file_s = f\"Month End Numbers {prev_month} {current_year_short}.xlsx\"\n",
    "#file_s = f\"Month End Numbers {prev_month} {current_year_short}.xlsx\"\n",
    "#file_s = f\"Month End Numbers {prev_month} {current_year_short}.xlsx\"\n",
    "#file_s = f\"Month End Numbers {prev_month} {current_year_short}.xlsx\"\n",
    "#file_s = f\"Month End Numbers {prev_month} {current_year_short}.xlsx\"\n",
    "#file_s = f\"Month End Numbers {prev_month} {current_year_short}.xlsx\"\n",
    "#file_s = f\"Month End Numbers {prev_month} {current_year_short}.xlsx\"\n",
    "file_s =f\"{current_year} MRVU {prev_month}.xlsx\"\n",
    "file_d = f\"{prev_month_short} {current_year} Consolidated Stats.xlsx\"\n",
    "print(\"Constructed Source filename:\", file_s)\n",
    "print(\"Constructed Destination filename:\", file_d)\n",
    "# Get the list of files in the directory\n",
    "files_inside_dir = os.listdir(new_dir)\n",
    "# Check if the constructed filenames are in the directory\n",
    "if file_s in files_inside_dir:\n",
    "    print(\"Source filename found in directory:\", file_s)\n",
    "else:\n",
    "    print(\"Source filename not found in directory.\")\n",
    "if file_d in files_inside_dir:\n",
    "    print(\"Destination filename found in directory:\", file_d)\n",
    "else:\n",
    "    print(\"Destination filename not found in directory.\")\n",
    "print(\"Manual JE process starts from here.\")"
   ]
  },
  {
   "cell_type": "code",
   "execution_count": null,
   "id": "eebd3106-bc08-46f1-9fd0-c46dbba18169",
   "metadata": {},
   "outputs": [],
   "source": []
  }
 ],
 "metadata": {
  "kernelspec": {
   "display_name": "Python 3 (ipykernel)",
   "language": "python",
   "name": "python3"
  },
  "language_info": {
   "codemirror_mode": {
    "name": "ipython",
    "version": 3
   },
   "file_extension": ".py",
   "mimetype": "text/x-python",
   "name": "python",
   "nbconvert_exporter": "python",
   "pygments_lexer": "ipython3",
   "version": "3.11.7"
  }
 },
 "nbformat": 4,
 "nbformat_minor": 5
}
