{
 "cells": [
  {
   "cell_type": "code",
   "execution_count": null,
   "id": "914fa2fa-a410-4f6e-a0a0-0a13e2a851bb",
   "metadata": {},
   "outputs": [],
   "source": [
    "import win32com.client\n",
    "import re\n",
    "\n",
    "# Connect to Outlook application\n",
    "outlook = win32com.client.Dispatch(\"Outlook.Application\").GetNamespace(\"MAPI\")\n",
    "\n",
    "# Get the inbox folder\n",
    "inbox = outlook.GetDefaultFolder(6)  # 6 represents the index of the inbox folder\n",
    "\n",
    "# Get all items in the inbox\n",
    "messages = inbox.Items\n",
    "\n",
    "# Define the email address of the desired sender\n",
    "desired_sender = \"sender@example.com\"\n",
    "\n",
    "# Regular expression pattern to match numerical values\n",
    "numeric_pattern = r\"\\d+\"\n",
    "\n",
    "# Loop through each email\n",
    "for message in messages:\n",
    "    # Check if the sender matches the desired sender's email address\n",
    "    sender = message.SenderEmailAddress\n",
    "    if sender == desired_sender:\n",
    "        # Extract email information\n",
    "        subject = message.Subject\n",
    "        date = message.ReceivedTime\n",
    "        body = message.Body\n",
    "\n",
    "        # Search for numerical values in the email body using regular expression\n",
    "        numeric_values = re.findall(numeric_pattern, body)\n",
    "\n",
    "        # Print email information and extracted numerical values\n",
    "        print(\"Subject:\", subject)\n",
    "        print(\"From:\", sender)\n",
    "        print(\"Date:\", date)\n",
    "        print(\"Numerical Values:\", numeric_values)\n",
    "\n",
    "        # You can further process the email content as needed\n",
    "\n",
    "# Disconnect from Outlook\n",
    "outlook = None"
   ]
  }
 ],
 "metadata": {
  "kernelspec": {
   "display_name": "Python 3 (ipykernel)",
   "language": "python",
   "name": "python3"
  },
  "language_info": {
   "codemirror_mode": {
    "name": "ipython",
    "version": 3
   },
   "file_extension": ".py",
   "mimetype": "text/x-python",
   "name": "python",
   "nbconvert_exporter": "python",
   "pygments_lexer": "ipython3",
   "version": "3.11.7"
  }
 },
 "nbformat": 4,
 "nbformat_minor": 5
}
