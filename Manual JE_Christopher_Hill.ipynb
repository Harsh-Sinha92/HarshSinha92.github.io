{
 "cells": [
  {
   "cell_type": "code",
   "execution_count": 2,
   "id": "53dc6ec6-5ec4-4271-9814-9feb8734a5b8",
   "metadata": {},
   "outputs": [],
   "source": [
    "import pandas as pd\n",
    "import os as os\n",
    "from openpyxl import load_workbook"
   ]
  },
  {
   "cell_type": "code",
   "execution_count": 6,
   "id": "a2a7a575-b557-4d1e-b9c4-0908fa34bf0a",
   "metadata": {},
   "outputs": [
    {
     "name": "stdout",
     "output_type": "stream",
     "text": [
      "Destination row:  514\n",
      "Inside if as the criterion fulfilled.\n",
      "Value at the cell: 11009825\n",
      "File has been updated successfully.\n"
     ]
    }
   ],
   "source": [
    "#Program to read values from one file and write in another file.\n",
    "file_s='Desktop\\Month End Numbers April 24.xlsx'\n",
    "file_d='Desktop\\Apr 2024 Consolidated Stats.xlsx'\n",
    "#Opening Source file from where value is to be taken\n",
    "source_wb=load_workbook(file_s)\n",
    "source_ws = source_wb['IC37']\n",
    "#Opening Destination file where value is to be written\n",
    "destination_wb=load_workbook(file_d)\n",
    "destination_ws = destination_wb['Journal Load Template']\n",
    "#Identifying the cells to the particular row where values from source file needs to be copied into.\\n\",\n",
    "id_1=9450\n",
    "id_2=81545\n",
    "id_3=900002\n",
    "#Initialising the destination rows.\n",
    "des_row_1=None\n",
    "#Targeting the specified row into which the writing of the values needs to be done\n",
    "for row in destination_ws.iter_rows(min_row=2, max_row=destination_ws.max_row, min_col=1, max_col=3):\n",
    "       if row[0].value == id_1 and row[1].value == id_2 and row[2].value == id_3:\n",
    "            des_row_1 = row[0].row\n",
    "            break\n",
    "print(\"Destination row: \",des_row_1)\n",
    "#For matching rows Values from source file are copied\n",
    "if des_row_1:\n",
    "    if source_ws['M1'].value == \"Outbound Issues\":\n",
    "        print(\"Inside if as the criterion fulfilled.\")\n",
    "        source_value_1 = source_ws['P35'].value\n",
    "        print(\"Value at the cell:\",source_value_1)\n",
    "        # Writing values to destination cell\n",
    "        destination_ws.cell(row=des_row_1, column=6).value = source_value_1\n",
    "        print(\"File has been updated successfully.\")\n",
    "    else:\n",
    "        print(\"M1 cell does not contain 'Outbound Issues'. Value from P35 will not be fetched.\")\n",
    "else:\n",
    "    print(\"Row with specified IDs not found.\")\n",
    "#Saving the destination file\n",
    "destination_wb.save(file_d)\n",
    "#Close both workbooks\n",
    "source_wb.close()\n",
    "destination_wb.close()"
   ]
  },
  {
   "cell_type": "code",
   "execution_count": null,
   "id": "2d878bce-660e-4fc9-bca0-40395ff9fdf0",
   "metadata": {},
   "outputs": [],
   "source": []
  }
 ],
 "metadata": {
  "kernelspec": {
   "display_name": "Python 3 (ipykernel)",
   "language": "python",
   "name": "python3"
  },
  "language_info": {
   "codemirror_mode": {
    "name": "ipython",
    "version": 3
   },
   "file_extension": ".py",
   "mimetype": "text/x-python",
   "name": "python",
   "nbconvert_exporter": "python",
   "pygments_lexer": "ipython3",
   "version": "3.11.7"
  }
 },
 "nbformat": 4,
 "nbformat_minor": 5
}
