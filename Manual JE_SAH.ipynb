{
 "cells": [
  {
   "cell_type": "code",
   "execution_count": 1,
   "id": "1bf9faaf-7999-4476-a8a6-13adb1484177",
   "metadata": {},
   "outputs": [],
   "source": [
    "import pandas as pd\n",
    "import os as os\n",
    "from openpyxl import load_workbook\n",
    "from datetime import datetime,timedelta"
   ]
  },
  {
   "cell_type": "code",
   "execution_count": 3,
   "id": "d8c6e41a-de4c-4cd5-a8e5-253c1ab7c436",
   "metadata": {},
   "outputs": [
    {
     "name": "stdout",
     "output_type": "stream",
     "text": [
      "Data received from Shawn A Hernandez.\n",
      "Destination row:  520\n",
      "Current date:  2024-05-20 05:05:41.267167\n",
      "Date in the file:  Apr-24\n",
      "Value received from the file:  1842\n",
      "File have been updated successfully for 5140-10590-900820.\n"
     ]
    }
   ],
   "source": [
    "print(\"Data received from Shawn A Hernandez.\")\n",
    "#Program to read values from one file and write in another file.\n",
    "file_s='Desktop\\Scorecard FY24(5140.10590).xlsx'\n",
    "file_d='Desktop\\Apr 2024 Consolidated Stats.xlsx'\n",
    "#Opening Source file from where value is to be taken\n",
    "source_wb=load_workbook(file_s)\n",
    "source_ws = source_wb['Scorecard FY24']\n",
    "#Opening Destination file where value is to be written\n",
    "destination_wb=load_workbook(file_d)\n",
    "destination_ws = destination_wb['Journal Load Template']\n",
    "#Identifying the cells to the particular row where values from source file needs to be copied into.\\n\",\n",
    "id_1=5140\n",
    "id_2=10590\n",
    "id_3=900820\n",
    "#Initialising the destination rows.\n",
    "des_row_1=None\n",
    "#Targeting the specified row into which the writing of the values needs to be done\n",
    "for row in destination_ws.iter_rows(min_row=2, max_row=destination_ws.max_row, min_col=1, max_col=3):\n",
    "       if row[0].value == id_1 and row[1].value == id_2 and row[2].value == id_3:\n",
    "            des_row_1 = row[0].row\n",
    "            break\n",
    "print(\"Destination row: \",des_row_1)\n",
    "    # For matching rows, values from source file are copied\n",
    "if des_row_1:\n",
    "    # Determine the cell index based on the current month and year\n",
    "    current_date = datetime.now()\n",
    "    print(\"Current date: \",current_date)\n",
    "    previous_month_date = current_date - timedelta(days=current_date.day)\n",
    "    previous_month_year = previous_month_date.strftime(\"%b-%y\")\n",
    "    print(\"Date in the file: \",previous_month_year)\n",
    "    source_date_cell = None\n",
    "    source_value_cell = None\n",
    "    for row in source_ws.iter_rows(min_row=1, max_row=source_ws.max_row, min_col=1, max_col=1):\n",
    "        if row[0].value == previous_month_year:\n",
    "            source_date_cell = row[0]\n",
    "            source_value_cell = source_ws.cell(row=row[0].row, column=2)  \n",
    "            break\n",
    "    if source_date_cell and source_value_cell:\n",
    "        source_value = source_value_cell.value\n",
    "        # Writing values to destination cell\n",
    "        destination_ws.cell(row=des_row_1, column=6).value = source_value\n",
    "        print(\"Value received from the file: \",source_value)\n",
    "#Saving the destination file\n",
    "destination_wb.save(file_d)\n",
    "#Close both workbooks\n",
    "source_wb.close()\n",
    "destination_wb.close()\n",
    "print(\"File have been updated successfully for 5140-10590-900820.\")"
   ]
  },
  {
   "cell_type": "code",
   "execution_count": null,
   "id": "c81ee7d1-481f-4032-ab14-55f315d6e02c",
   "metadata": {},
   "outputs": [],
   "source": []
  }
 ],
 "metadata": {
  "kernelspec": {
   "display_name": "Python 3 (ipykernel)",
   "language": "python",
   "name": "python3"
  },
  "language_info": {
   "codemirror_mode": {
    "name": "ipython",
    "version": 3
   },
   "file_extension": ".py",
   "mimetype": "text/x-python",
   "name": "python",
   "nbconvert_exporter": "python",
   "pygments_lexer": "ipython3",
   "version": "3.11.7"
  }
 },
 "nbformat": 4,
 "nbformat_minor": 5
}
