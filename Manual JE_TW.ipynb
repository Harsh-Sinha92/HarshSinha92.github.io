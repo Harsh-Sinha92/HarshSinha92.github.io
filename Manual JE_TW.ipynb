{
 "cells": [
  {
   "cell_type": "code",
   "execution_count": 3,
   "id": "5687d28b-b0c9-4dd9-894b-ddc0d4048d7f",
   "metadata": {},
   "outputs": [],
   "source": [
    "import pandas as pd\n",
    "import os as os\n",
    "from openpyxl import load_workbook\n",
    "from datetime import datetime,timedelta"
   ]
  },
  {
   "cell_type": "code",
   "execution_count": 4,
   "id": "a89d210b-d087-4919-a1e6-4f63e78d7e53",
   "metadata": {},
   "outputs": [
    {
     "name": "stdout",
     "output_type": "stream",
     "text": [
      "Data received from Thomas Watson.\n",
      "Current Directory after directory change:  C:\\Users\\user\\Desktop\n",
      "Files inside Directory:  ['2024 MRVU April.xlsx', '950680_APR_05072024.xlsx', 'Aug 2024 Consolidated Stats.xlsx', 'BUMC_FY24 Monthly Bed Report.xlsx', 'CMI & CWAD Calculations April 2024.xlsx', 'CMICWADMOYTD.xlsx', 'desktop.ini', 'HealthCare Basics.txt', 'Laundry_MASTER_FY2024.xlsx', 'Manual JE Codes', 'Manual JE Codes_Updated', 'Mapping Tabs for Lawson v5-16-24.xlsx', 'MIDAS CMI By Payor APR.xlsx', 'Month End Numbers April 24.xlsx', 'OUTREACH RVU FY24.xlsx', 'pat May 2024 numbers.xlsx', 'Scorecard FY24(5140.10590).xlsx', 'TouchStone_RVUs-Extract.xlsx', 'Transport Volumes Monthly FY2025.xlsx', 'tss3333ddsinq.xlsx']\n",
      "Constructed Destination filename: Aug 2024 Consolidated Stats.xlsx\n",
      "Destination filename found in directory: Aug 2024 Consolidated Stats.xlsx\n",
      "Value 1 in the file: 1050.41\n",
      "Value 2 in the file: 363.44\n",
      "Value 3 in the file: 481.25\n",
      "Value 4 in the file: 1443.96\n",
      "Value 5 in the file: 683.15\n",
      "Value 6 in the file: 344.57\n",
      "Value 7 in the file: 34.31\n",
      "Value 8 in the file: 7.01\n",
      "Value 9 in the file: 51.78\n",
      "Value 10 in the file: 6.24\n",
      "File has been updated successfully.\n"
     ]
    }
   ],
   "source": [
    "print(\"Data received from Thomas Watson.\")\n",
    "# Program to read values from one file and write in another file.\n",
    "file_s = 'C:\\\\Users\\\\user\\\\Desktop\\\\TouchStone_RVUs-Extract.xlsx'\n",
    "current_dir = os.getcwd()\n",
    "new_dir = r'C:\\\\Users\\\\user\\\\Desktop'\n",
    "os.chdir(new_dir)\n",
    "current_dir = os.getcwd()\n",
    "print(\"Current Directory after directory change: \", current_dir)\n",
    "Files_inside_dir = os.listdir()\n",
    "print(\"Files inside Directory: \", Files_inside_dir)\n",
    "# Get the current month and year\n",
    "current_date = datetime.now()\n",
    "prev_month_date = current_date.replace(day=1) - timedelta(days=1)\n",
    "prev_month = prev_month_date.strftime(\"%B\")\n",
    "prev_month_short = prev_month_date.strftime(\"%b\")\n",
    "current_year = current_date.strftime(\"%Y\")\n",
    "current_year_short = current_date.strftime(\"%y\")\n",
    "# Construct the Destination and source filename\n",
    "file_d = f\"{prev_month_short} {current_year} Consolidated Stats.xlsx\"\n",
    "print(\"Constructed Destination filename:\", file_d)\n",
    "# Check if the constructed filenames are in the directory\n",
    "if file_d in Files_inside_dir:\n",
    "    print(\"Destination filename found in directory:\", file_d)\n",
    "else:\n",
    "    print(\"Destination filename not found in directory.\")\n",
    "# Opening Source file from where value is to be taken\n",
    "source_wb = load_workbook(file_s)\n",
    "source_ws = source_wb['Pivot Table']  # Ensure the correct worksheet name\n",
    "# Opening Destination file where value is to be written\n",
    "destination_wb = load_workbook(file_d)\n",
    "destination_ws = destination_wb['Journal Load Template']\n",
    "# Identifying the cells to the particular row where values from source file needs to be copied into\n",
    "ids = [\n",
    "    (5500, 34610), (5500, 34914), (5510, 30034), (5512, 36164), (5514, 37134),\n",
    "    (5516, 38282), (5516, 38283), (5500, 34814), (5512, 36186), (5500, 35791)\n",
    "]\n",
    "# Source values correspond to K103, K104, ..., so we reference them correctly\n",
    "source_values = ['K103', 'K104', 'K105', 'K106', 'K107', 'K108', 'K109', 'K110', 'K111', 'K112']\n",
    "des_rows = [None] * len(ids)\n",
    "# Finding the matching rows in the destination file\n",
    "for i, (id_1, id_2) in enumerate(ids):\n",
    "    for row in destination_ws.iter_rows(min_row=2, max_row=destination_ws.max_row, min_col=1, max_col=3):\n",
    "        if row[0].value == id_1 and row[1].value == id_2:\n",
    "            des_rows[i] = row[0].row\n",
    "            break\n",
    "# Copying values from source to destination\n",
    "for i, des_row in enumerate(des_rows):\n",
    "    if des_row:\n",
    "        # Ensure we're fetching the correct value from the source worksheet\n",
    "        source_value = source_ws[source_values[i]].value\n",
    "        destination_ws.cell(row=des_row, column=6).value = source_value\n",
    "        print(f\"Value {i+1} in the file: {source_value}\")\n",
    "# Saving the destination file\n",
    "destination_wb.save(file_d)\n",
    "# Close both workbooks\n",
    "source_wb.close()\n",
    "destination_wb.close()\n",
    "print(\"File has been updated successfully.\")"
   ]
  },
  {
   "cell_type": "code",
   "execution_count": null,
   "id": "50f9e136-06af-4af6-9c36-bd9d818194fe",
   "metadata": {},
   "outputs": [],
   "source": []
  }
 ],
 "metadata": {
  "kernelspec": {
   "display_name": "Python 3 (ipykernel)",
   "language": "python",
   "name": "python3"
  },
  "language_info": {
   "codemirror_mode": {
    "name": "ipython",
    "version": 3
   },
   "file_extension": ".py",
   "mimetype": "text/x-python",
   "name": "python",
   "nbconvert_exporter": "python",
   "pygments_lexer": "ipython3",
   "version": "3.11.7"
  }
 },
 "nbformat": 4,
 "nbformat_minor": 5
}
