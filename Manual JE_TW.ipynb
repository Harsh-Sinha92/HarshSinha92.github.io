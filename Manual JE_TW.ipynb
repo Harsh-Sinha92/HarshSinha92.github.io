{
 "cells": [
  {
   "cell_type": "code",
   "execution_count": 1,
   "id": "5687d28b-b0c9-4dd9-894b-ddc0d4048d7f",
   "metadata": {},
   "outputs": [],
   "source": [
    "import pandas as pd\n",
    "import os as os\n",
    "from openpyxl import load_workbook\n",
    "from datetime import datetime,timedelta"
   ]
  },
  {
   "cell_type": "code",
   "execution_count": 5,
   "id": "c3c8a452-92ff-4107-a166-43fe7529ecb4",
   "metadata": {},
   "outputs": [
    {
     "name": "stdout",
     "output_type": "stream",
     "text": [
      "Data received from Thomas Watson.\n",
      "Current Directory after directory change:  C:\\Users\\user\\Desktop\n",
      "Files inside Directory:  ['2024 MRVU April.xlsx', 'Apr 2024 Consolidated Stats.xlsx', 'BUMC_FY24 Monthly Bed Report.xlsx', 'desktop.ini', 'Gen_AI Coed', 'HealthCare Basics.txt', 'Laundry_MASTER_FY2024.xlsx', 'Manual JE Codes', 'Mapping Tabs for Lawson v5-16-24.xlsx', 'Month End Numbers April 24.xlsx', 'OUTREACH RVU FY24.xlsx', 'pat April 2024 numbers.xlsx', 'Scorecard FY24(5140.10590).xlsx', 'TouchStone_RVUs-Extract.xlsx', 'Transport Volumes Monthly FY2024.xlsx']\n",
      "Constructed Destination filename: Apr 2024 Consolidated Stats.xlsx\n",
      "Destination filename found in directory: Apr 2024 Consolidated Stats.xlsx\n",
      "Value 1 in the file: 1138.63\n",
      "Value 2 in the file: 474.55\n",
      "Value 3 in the file: 442.19\n",
      "Value 4 in the file: 2032.67\n",
      "Value 5 in the file: 143.46\n",
      "Value 6 in the file: 192.63\n",
      "Value 7 in the file: 3.71\n",
      "Value 8 in the file: 12.18\n",
      "File have been updated successfully.\n"
     ]
    }
   ],
   "source": [
    "print(\"Data received from Thomas Watson.\")\n",
    "#Program to read values from one file and write in another file.\n",
    "file_s='C:\\\\Users\\\\user\\\\Desktop\\\\TouchStone_RVUs-Extract.xlsx'\n",
    "current_dir=os.getcwd\n",
    "new_dir=r'C:\\\\Users\\\\user\\\\Desktop'\n",
    "os.chdir(new_dir)\n",
    "current_dir=os.getcwd()\n",
    "print(\"Current Directory after directory change: \",current_dir)\n",
    "Files_inside_dir=os.listdir()\n",
    "print(\"Files inside Directory: \",Files_inside_dir)\n",
    "# Get the current month and year\n",
    "current_date = datetime.now()\n",
    "# Calculate the previous month\n",
    "prev_month_date = current_date.replace(day=1)- timedelta(days=1) \n",
    "prev_month = prev_month_date.strftime(\"%B\") \n",
    "prev_month_short = prev_month_date.strftime(\"%b\") \n",
    "current_year = current_date.strftime(\"%Y\")\n",
    "current_year_short = current_date.strftime(\"%y\")\n",
    "# Construct the Destination and source filename\n",
    "file_d = f\"{prev_month_short} {current_year} Consolidated Stats.xlsx\"\n",
    "print(\"Constructed Destination filename:\",file_d)\n",
    "# Check if the constructed filenames are in the directory\n",
    "if file_d in Files_inside_dir:\n",
    "    print(\"Destination filename found in directory:\",file_d)\n",
    "else:\n",
    "    print(\"Destination filename not found in directory.\")\n",
    "#Opening Source file from where value is to be taken\n",
    "source_wb=load_workbook(file_s)\n",
    "source_ws=source_ws = source_wb['Pivot Table'] \n",
    "#Opening Destination file where value is to be written\n",
    "destination_wb=load_workbook(file_d)\n",
    "destination_ws=destination_ws = destination_wb['Journal Load Template']\n",
    "# Identifying the cells to the particular row where values from source file needs to be copied into\n",
    "ids = [\n",
    "    (5500, 34610), (5500, 34914), (5510, 30034), (5512, 36164),\n",
    "    (5514, 37134), (5516, 38282), (5500, 34814), (5512, 36186)\n",
    "]\n",
    "source_values = ['K96', 'K97', 'K98', 'K99', 'K100', 'K101', 'K102', 'K103']\n",
    "des_rows = [None] * len(ids)\n",
    "# Finding the matching rows in the destination file\n",
    "for i, (id_1, id_2) in enumerate(ids):\n",
    "    for row in destination_ws.iter_rows(min_row=2, max_row=destination_ws.max_row, min_col=1, max_col=3):\n",
    "        if row[0].value == id_1 and row[1].value == id_2:\n",
    "            des_rows[i] = row[0].row\n",
    "            break\n",
    "# Copying values from source to destination\n",
    "for i, des_row in enumerate(des_rows):\n",
    "    if des_row:\n",
    "        source_value = source_ws[source_values[i]].value\n",
    "        destination_ws.cell(row=des_row, column=6).value = source_value\n",
    "        print(f\"Value {i+1} in the file: {source_value}\")\n",
    "#Saving the destination file\n",
    "destination_wb.save(file_d)\n",
    "#Close both workbooks\n",
    "source_wb.close()\n",
    "destination_wb.close()\n",
    "print(\"File have been updated successfully.\")"
   ]
  },
  {
   "cell_type": "code",
   "execution_count": null,
   "id": "a89d210b-d087-4919-a1e6-4f63e78d7e53",
   "metadata": {},
   "outputs": [],
   "source": []
  }
 ],
 "metadata": {
  "kernelspec": {
   "display_name": "Python 3 (ipykernel)",
   "language": "python",
   "name": "python3"
  },
  "language_info": {
   "codemirror_mode": {
    "name": "ipython",
    "version": 3
   },
   "file_extension": ".py",
   "mimetype": "text/x-python",
   "name": "python",
   "nbconvert_exporter": "python",
   "pygments_lexer": "ipython3",
   "version": "3.11.7"
  }
 },
 "nbformat": 4,
 "nbformat_minor": 5
}
