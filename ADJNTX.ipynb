{
 "cells": [
  {
   "cell_type": "code",
   "execution_count": 16,
   "id": "413d98e0-3a99-4200-91ad-619d19322e9d",
   "metadata": {},
   "outputs": [],
   "source": [
    "import os as os\n",
    "from openpyxl import load_workbook\n",
    "from datetime import datetime,timedelta"
   ]
  },
  {
   "cell_type": "code",
   "execution_count": 22,
   "id": "a884dd74-1f88-482e-a09d-23ed946fffb2",
   "metadata": {
    "scrolled": true
   },
   "outputs": [
    {
     "name": "stdout",
     "output_type": "stream",
     "text": [
      "Current Directory after directory change:  C:\\Users\\user\\Downloads\n",
      "Files inside Directory:  ['Anaconda3-2024.02-1-Windows-x86_64.exe', 'animal_images', 'AramarkHoursJE.ipynb', 'CMICWADMOYTD.ipynb', 'desktop.ini', 'doc', 'Emp_assignment_data.csv', 'Emp_data.csv', 'Financial_Services.pptx', 'GenAICodesandFiles', 'GenAI_1.ipynb.ipynb', 'GenAI_8_2.ipynb', 'Hospitality Statistics - May FY24 - NOLINKS.xlsx', 'HospitalityJE.ipynb', 'image1.jpg', 'image2.jpg', 'image3.jpg', 'image4.jpg', 'image5.jpg', 'Labor hours - May 2024.xlsx', 'Mapping Tabs for Lawson v6-11-24.xlsx', 'ntx_adj_fx_monthly_may_close.xlsx', 'OutlookMailcapture.ipynb', 'ReadDestinationfilename.ipynb', 'sample_image.png', 'Shopping_data.csv', 'Syn_data.csv', 'Time_Series_Forecasting_Actual.pptx', 'Time_Series_Forecasting_Thanks.pptx', 'titanic.csv', 'tss3333ddsinq.xlsx', 'Work-LifeBalance.pptx', '~$ntx_adj_fx_monthly_may_close.xlsx']\n",
      "Name of the month in small letters:  may\n",
      "Constructed NTX ADJ filename:  ntx_adj_fx_monthly_may_close.xlsx\n",
      "All required files found in directory.\n",
      "Adjustment factor report updated for NTX region.\n"
     ]
    }
   ],
   "source": [
    "#Completing the operation for single file\n",
    "current_dir=os.getcwd\n",
    "new_dir=r'C:\\Users\\user\\Downloads'\n",
    "os.chdir(new_dir)\n",
    "current_dir=os.getcwd()\n",
    "print(\"Current Directory after directory change: \",current_dir)\n",
    "Files_inside_dir=os.listdir()\n",
    "print(\"Files inside Directory: \",Files_inside_dir)\n",
    "# Get the current month and year\n",
    "current_date = datetime.now()\n",
    "# Calculate the previous month\n",
    "prev_month_date = current_date.replace(day=1)- timedelta(days=1) \n",
    "prev_month_short_small = prev_month_date.strftime(\"%b\").lower()\n",
    "print(\"Name of the month in small letters: \",prev_month_short_small)                            \n",
    "current_year = current_date.strftime(\"%Y\")\n",
    "current_year_short = current_date.strftime(\"%y\")\n",
    "# Construct the Destination and source filename\n",
    "file_ntx_adj= f\"ntx_adj_fx_monthly_{prev_month_short_small}_close.xlsx\"\n",
    "print(\"Constructed NTX ADJ filename: \",file_ntx_adj)\n",
    "# Check if the constructed filenames are in the directory\n",
    "if file_ntx_adj in Files_inside_dir:\n",
    "    print(\"All required files found in directory.\")\n",
    "else:\n",
    "    print(\"One or more required files not found in directory.\")\n",
    "# Load the source workbook and worksheet\n",
    "source_wb = load_workbook(file_ntx_adj)\n",
    "source_ws = source_wb['ntx_adj_fx_monthly_may_close']\n",
    "# Create a new sheet\n",
    "sheet_ADJ = source_wb.create_sheet(title='ntx_adj')\n",
    "# Define the columns to keep (0-based indexing)\n",
    "# Define the columns to keep (1-based indexing to 0-based)\n",
    "columns_to_keep = [i - 1 for i in range(1, 62, 3)]  # 1, 4, 7, ..., 61\n",
    "# Copy the required columns to the new sheet\n",
    "for row_idx, row in enumerate(source_ws.iter_rows()):\n",
    "    for new_col_idx, col_idx in enumerate(columns_to_keep):\n",
    "        new_cell = sheet_ADJ.cell(row=row_idx + 1, column=new_col_idx + 1, value=row[col_idx].value)\n",
    "        old_cell = row[col_idx]\n",
    "        if old_cell.has_style:\n",
    "            new_cell.font = old_cell.font\n",
    "            new_cell.border = old_cell.border\n",
    "            new_cell.fill = old_cell.fill\n",
    "            new_cell.number_format = old_cell.number_format\n",
    "            new_cell.protection = old_cell.protection\n",
    "            new_cell.alignment = old_cell.alignment\n",
    "# Copy column widths for the retained columns\n",
    "for new_col_idx, col_idx in enumerate(columns_to_keep):\n",
    "    col_letter = source_ws.cell(row=1, column=col_idx + 1).column_letter\n",
    "    if col_letter in source_ws.column_dimensions:\n",
    "        source_dim = source_ws.column_dimensions[col_letter]\n",
    "        sheet_ADJ.column_dimensions[new_col_idx + 1].width = source_dim.width\n",
    "# Copy row heights\n",
    "for row in source_ws.row_dimensions:\n",
    "    sheet_ADJ.row_dimensions[row].height = source_ws.row_dimensions[row].height\n",
    "# Define the column headers to remove\n",
    "headers_to_remove = [\"CAR ADJ FX 1151\", \"GAR ADJ FX 1140-1141\", \"TENET ADJ FX\"]\n",
    "# Get the header row (assuming the first row contains headers)\n",
    "header_row = sheet_ADJ[1]\n",
    "# Identify columns to remove based on headers\n",
    "columns_to_remove = []\n",
    "for col in header_row:\n",
    "    if col.value in headers_to_remove:\n",
    "        columns_to_remove.append(col.column)\n",
    "# Remove columns in reverse order to avoid shifting issues\n",
    "for col_idx in reversed(columns_to_remove):\n",
    "    sheet_ADJ.delete_cols(col_idx)\n",
    "# Remove integer values from cells starting from row 2 and column B\n",
    "for row in sheet_ADJ.iter_rows(min_row=2, min_col=2):\n",
    "    for cell in row:\n",
    "        cell_value = cell.value\n",
    "        if isinstance(cell_value, int):\n",
    "            cell.value = None\n",
    "# Save the workbook\n",
    "source_wb.save(file_ntx_adj)\n",
    "print(\"Adjustment factor report updated for NTX region.\")"
   ]
  },
  {
   "cell_type": "code",
   "execution_count": 21,
   "id": "49f77f53-272f-4817-a29f-153cc0c18b3f",
   "metadata": {},
   "outputs": [
    {
     "name": "stdout",
     "output_type": "stream",
     "text": [
      "<class 'float'>\n"
     ]
    }
   ],
   "source": [
    "x=2.013\n",
    "print(type(x))"
   ]
  },
  {
   "cell_type": "code",
   "execution_count": null,
   "id": "65896265-ee8b-4553-b242-2d963af476e8",
   "metadata": {},
   "outputs": [],
   "source": []
  }
 ],
 "metadata": {
  "kernelspec": {
   "display_name": "Python 3 (ipykernel)",
   "language": "python",
   "name": "python3"
  },
  "language_info": {
   "codemirror_mode": {
    "name": "ipython",
    "version": 3
   },
   "file_extension": ".py",
   "mimetype": "text/x-python",
   "name": "python",
   "nbconvert_exporter": "python",
   "pygments_lexer": "ipython3",
   "version": "3.11.7"
  }
 },
 "nbformat": 4,
 "nbformat_minor": 5
}
