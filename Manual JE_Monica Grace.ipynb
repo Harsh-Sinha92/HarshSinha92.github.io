{
 "cells": [
  {
   "cell_type": "code",
   "execution_count": 24,
   "id": "c695d70f-c222-4fa1-a0f8-52367c3f79a0",
   "metadata": {},
   "outputs": [],
   "source": [
    "import pandas as pd\n",
    "import os as os\n",
    "from openpyxl import load_workbook\n",
    "from datetime import datetime,timedelta"
   ]
  },
  {
   "cell_type": "code",
   "execution_count": 27,
   "id": "2955c7b7-b328-41df-b1bf-1765063e983a",
   "metadata": {},
   "outputs": [
    {
     "name": "stdout",
     "output_type": "stream",
     "text": [
      "Current date:  2024-05-13 07:18:11.230924\n",
      "Month Obtained:  April\n",
      "Source Data: [908, 804, 52, 52, 914]\n",
      "Destination Data: [908, 804, 52, 52, 914]\n",
      "Data matches for the current month for BUMC.\n",
      "File has been validated for BUMC.\n"
     ]
    }
   ],
   "source": [
    "#Program to read values from one file and write in another file.\n",
    "file_s='Desktop\\BUMC_FY24 Monthly Bed Report.xlsx'\n",
    "file_d='Desktop\\Apr 2024 Consolidated Stats.xlsx'\n",
    "#Opening Source file from where value is to be taken\n",
    "source_wb=load_workbook(file_s)\n",
    "source_ws=source_ws = source_wb['Report'] \n",
    "#Opening Destination file where value is to be written\n",
    "destination_wb=load_workbook(file_d)\n",
    "destination_ws=destination_ws = destination_wb['Journal Load Template']\n",
    "# Find the month column in the source file\n",
    "#current_month = datetime.now().strftime(\"%B\")\n",
    "current_date = datetime.now()\n",
    "print(\"Current date: \",current_date)\n",
    "# Subtract one month from the current date\n",
    "previous_month_date = current_date - timedelta(days=current_date.day)\n",
    "# Adjusting day to the last day of the previous month\n",
    "previous_month_date = previous_month_date.replace(day=28)  \n",
    "# Get the month name of the previous month\n",
    "previous_month = previous_month_date.strftime(\"%B\")\n",
    "print(\"Month Obtained: \",previous_month)\n",
    "month_column = None\n",
    "for col in range(9, 21):  # Assuming the months are in columns I to T\n",
    "    if source_ws.cell(row=55, column=col).value == previous_month:  # Change \"April\" to the desired month\n",
    "        month_column = col\n",
    "        break\n",
    "\n",
    "# If month_column is found, fetch data from the corresponding rows\n",
    "if month_column:\n",
    "    source_rows_range = range(56, 61)  # Adjust range based on the month column\n",
    "    destination_rows = [548, 575, 603, 618, 629]\n",
    "\n",
    "    # Extract data from source file\n",
    "    source_data = [source_ws.cell(row=i, column=month_column).value for i in source_rows_range]\n",
    "\n",
    "    # Extract data from destination file\n",
    "    destination_data = [destination_ws[f'F{i}'].value for i in destination_rows]\n",
    "print(\"Source Data:\", source_data)\n",
    "print(\"Destination Data:\", destination_data)\n",
    "# Check if the data matches\n",
    "if source_data == destination_data:\n",
    "        print(\"Data matches for the current month for BUMC.\")\n",
    "else:\n",
    "        print(\"There is some mismatch to be checked for BUMC.\")\n",
    "\n",
    "# Close both workbooks\n",
    "source_wb.close()\n",
    "destination_wb.close()\n",
    "\n",
    "print(\"File has been validated for BUMC.\")"
   ]
  },
  {
   "cell_type": "code",
   "execution_count": null,
   "id": "4ab08579-4103-4a14-8b24-fc5fdc33eafc",
   "metadata": {},
   "outputs": [],
   "source": []
  }
 ],
 "metadata": {
  "kernelspec": {
   "display_name": "Python 3 (ipykernel)",
   "language": "python",
   "name": "python3"
  },
  "language_info": {
   "codemirror_mode": {
    "name": "ipython",
    "version": 3
   },
   "file_extension": ".py",
   "mimetype": "text/x-python",
   "name": "python",
   "nbconvert_exporter": "python",
   "pygments_lexer": "ipython3",
   "version": "3.11.7"
  }
 },
 "nbformat": 4,
 "nbformat_minor": 5
}
