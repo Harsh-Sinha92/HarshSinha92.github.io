{
 "cells": [
  {
   "cell_type": "code",
   "execution_count": 1,
   "id": "f9dc566b-527a-4d2a-b8b2-3070562296e9",
   "metadata": {},
   "outputs": [],
   "source": [
    "import pandas as pd\n",
    "import os as os\n",
    "from openpyxl import load_workbook"
   ]
  },
  {
   "cell_type": "code",
   "execution_count": 2,
   "id": "eeea9182-d05c-4df5-b9a2-bc563fa0f896",
   "metadata": {},
   "outputs": [
    {
     "name": "stdout",
     "output_type": "stream",
     "text": [
      "Source value:  2895\n",
      "File have been updated successfully.\n"
     ]
    }
   ],
   "source": [
    "#Program to read values from one file and write in another file.\n",
    "file_s='Desktop\\pat April 2024 numbers.xlsx'\n",
    "file_d='Desktop\\Apr 2024 Consolidated Stats.xlsx'\n",
    "#Opening Source file from where value is to be taken\n",
    "source_wb=load_workbook(file_s,data_only=True)\n",
    "source_ws = source_wb['Sheet1']\n",
    "#Opening Destination file where value is to be written\n",
    "destination_wb=load_workbook(file_d)\n",
    "destination_ws = destination_wb['Journal Load Template']\n",
    "#Identifying the cells to the particular row where values from source file needs to be copied into.\\n\",\n",
    "id_1=5200\n",
    "id_2=10104\n",
    "id_3=902500\n",
    "#Initialising the destination rows.\n",
    "des_row_1=None\n",
    "#Targeting the specified row into which the writing of the values needs to be done\n",
    "for row in destination_ws.iter_rows(min_row=2, max_row=destination_ws.max_row, min_col=1, max_col=3):\n",
    "       if row[0].value == id_1 and row[1].value == id_2 and row[2].value == id_3:\n",
    "            des_row_1 = row[0].row\n",
    "            break\n",
    "#For matching rows Values from source file are copied\n",
    "if des_row_1:\n",
    "        source_value_1 = source_ws['F13'].value \n",
    "print(\"Source value: \",source_value_1)\n",
    "#Writing values to destination cell\n",
    "destination_ws.cell(row=des_row_1, column=6).value = source_value_1\n",
    "#Saving the destination file\n",
    "destination_wb.save(file_d)\n",
    "#Close both workbooks\n",
    "source_wb.close()\n",
    "destination_wb.close()\n",
    "print(\"File have been updated successfully.\")"
   ]
  },
  {
   "cell_type": "code",
   "execution_count": null,
   "id": "012df65d-3d36-4554-93f4-f7483ebc662a",
   "metadata": {},
   "outputs": [],
   "source": []
  }
 ],
 "metadata": {
  "kernelspec": {
   "display_name": "Python 3 (ipykernel)",
   "language": "python",
   "name": "python3"
  },
  "language_info": {
   "codemirror_mode": {
    "name": "ipython",
    "version": 3
   },
   "file_extension": ".py",
   "mimetype": "text/x-python",
   "name": "python",
   "nbconvert_exporter": "python",
   "pygments_lexer": "ipython3",
   "version": "3.11.7"
  }
 },
 "nbformat": 4,
 "nbformat_minor": 5
}
