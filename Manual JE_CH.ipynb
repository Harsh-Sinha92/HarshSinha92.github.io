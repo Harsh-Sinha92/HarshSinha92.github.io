{
 "cells": [
  {
   "cell_type": "code",
   "execution_count": 1,
   "id": "53dc6ec6-5ec4-4271-9814-9feb8734a5b8",
   "metadata": {},
   "outputs": [],
   "source": [
    "import pandas as pd\n",
    "import os as os\n",
    "from openpyxl import load_workbook\n",
    "from datetime import datetime,timedelta"
   ]
  },
  {
   "cell_type": "code",
   "execution_count": 2,
   "id": "a2a7a575-b557-4d1e-b9c4-0908fa34bf0a",
   "metadata": {},
   "outputs": [
    {
     "name": "stdout",
     "output_type": "stream",
     "text": [
      "Data received from Christopher Hill.\n",
      "Current Directory after directory change:  C:\\Users\\user\\Desktop\n",
      "Files inside Directory:  ['2024 MRVU April.xlsx', '950680_APR_05072024.xlsx', 'Aug 2024 Consolidated Stats.xlsx', 'BUMC_FY24 Monthly Bed Report.xlsx', 'CMI & CWAD Calculations April 2024.xlsx', 'CMICWADMOYTD.xlsx', 'desktop.ini', 'HealthCare Basics.txt', 'Laundry_MASTER_FY2024.xlsx', 'Manual JE Codes', 'Manual JE Codes_Updated', 'Mapping Tabs for Lawson v5-16-24.xlsx', 'MIDAS CMI By Payor APR.xlsx', 'Month End Numbers August 24.xlsx', 'OUTREACH RVU FY24.xlsx', 'pat May 2024 numbers.xlsx', 'Scorecard FY24(5140.10590).xlsx', 'TouchStone_RVUs-Extract.xlsx', 'Transport Volumes Monthly FY2025.xlsx', 'tss3333ddsinq.xlsx']\n",
      "Constructed Source filename: Month End Numbers August 24.xlsx\n",
      "Constructed Destination filename: Aug 2024 Consolidated Stats.xlsx\n",
      "Source filename found in directory: Month End Numbers August 24.xlsx\n",
      "Destination filename found in directory: Aug 2024 Consolidated Stats.xlsx\n",
      "Destination row:  514\n",
      "Inside if as the criterion fulfilled.\n",
      "Value at the cell: 14739235\n",
      "File have been updated successfully for 9450-81545-900002.\n"
     ]
    }
   ],
   "source": [
    "print(\"Data received from Christopher Hill.\")\n",
    "#Program to read values from one file and write in another file.\n",
    "current_dir=os.getcwd\n",
    "new_dir=r'C:\\\\Users\\\\user\\\\Desktop'\n",
    "os.chdir(new_dir)\n",
    "current_dir=os.getcwd()\n",
    "print(\"Current Directory after directory change: \",current_dir)\n",
    "Files_inside_dir=os.listdir()\n",
    "print(\"Files inside Directory: \",Files_inside_dir)\n",
    "# Get the current month and year\n",
    "current_date = datetime.now()\n",
    "# Calculate the previous month\n",
    "prev_month_date = current_date.replace(day=1)- timedelta(days=1) \n",
    "prev_month = prev_month_date.strftime(\"%B\") \n",
    "prev_month_short = prev_month_date.strftime(\"%b\") \n",
    "current_year = current_date.strftime(\"%Y\")\n",
    "current_year_short = current_date.strftime(\"%y\")\n",
    "# Construct the Destination and source filename\n",
    "file_s = f\"Month End Numbers {prev_month} {current_year_short}.xlsx\" #Christopher Hill\n",
    "file_d = f\"{prev_month_short} {current_year} Consolidated Stats.xlsx\"\n",
    "print(\"Constructed Source filename:\", file_s)\n",
    "print(\"Constructed Destination filename:\", file_d)\n",
    "# Check if the constructed filenames are in the directory\n",
    "if file_s in Files_inside_dir:\n",
    "    print(\"Source filename found in directory:\", file_s)\n",
    "else:\n",
    "    print(\"Source filename not found in directory.\")\n",
    "if file_d in Files_inside_dir:\n",
    "    print(\"Destination filename found in directory:\", file_d)\n",
    "else:\n",
    "    print(\"Destination filename not found in directory.\")\n",
    "#file_s='Desktop\\Month End Numbers April 24.xlsx'\n",
    "#file_d='Desktop\\Apr 2024 Consolidated Stats.xlsx'\n",
    "#Opening Source file from where value is to be taken\n",
    "source_wb=load_workbook(file_s)\n",
    "source_ws = source_wb['IC37']\n",
    "#Opening Destination file where value is to be written\n",
    "destination_wb=load_workbook(file_d)\n",
    "destination_ws = destination_wb['Journal Load Template']\n",
    "#Identifying the cells to the particular row where values from source file needs to be copied into.\\n\",\n",
    "id_1=9450\n",
    "id_2=81545\n",
    "id_3=900002\n",
    "#Initialising the destination rows.\n",
    "des_row_1=None\n",
    "#Targeting the specified row into which the writing of the values needs to be done\n",
    "for row in destination_ws.iter_rows(min_row=2, max_row=destination_ws.max_row, min_col=1, max_col=3):\n",
    "       if row[0].value == id_1 and row[1].value == id_2 and row[2].value == id_3:\n",
    "            des_row_1 = row[0].row\n",
    "            break\n",
    "print(\"Destination row: \",des_row_1)\n",
    "#For matching rows Values from source file are copied\n",
    "if des_row_1:\n",
    "    if source_ws['M1'].value == \"Outbound Issues\":\n",
    "        print(\"Inside if as the criterion fulfilled.\")\n",
    "        source_value_1 = source_ws['P35'].value\n",
    "        print(\"Value at the cell:\",source_value_1)\n",
    "        # Writing values to destination cell\n",
    "        destination_ws.cell(row=des_row_1, column=6).value = source_value_1\n",
    "        print(\"File have been updated successfully for 9450-81545-900002.\")\n",
    "    else:\n",
    "        print(\"M1 cell does not contain 'Outbound Issues'. Value from P35 will not be fetched.\")\n",
    "else:\n",
    "    print(\"Row with specified IDs not found.\")\n",
    "#Saving the destination file\n",
    "destination_wb.save(file_d)\n",
    "#Close both workbooks\n",
    "source_wb.close()\n",
    "destination_wb.close()"
   ]
  },
  {
   "cell_type": "code",
   "execution_count": null,
   "id": "2d878bce-660e-4fc9-bca0-40395ff9fdf0",
   "metadata": {},
   "outputs": [],
   "source": []
  }
 ],
 "metadata": {
  "kernelspec": {
   "display_name": "Python 3 (ipykernel)",
   "language": "python",
   "name": "python3"
  },
  "language_info": {
   "codemirror_mode": {
    "name": "ipython",
    "version": 3
   },
   "file_extension": ".py",
   "mimetype": "text/x-python",
   "name": "python",
   "nbconvert_exporter": "python",
   "pygments_lexer": "ipython3",
   "version": "3.11.7"
  }
 },
 "nbformat": 4,
 "nbformat_minor": 5
}
