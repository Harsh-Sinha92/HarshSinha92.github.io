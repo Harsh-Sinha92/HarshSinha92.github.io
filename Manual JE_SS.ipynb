{
 "cells": [
  {
   "cell_type": "code",
   "execution_count": 1,
   "id": "4e794096-4efb-4409-ad2a-8b1a2e50ab98",
   "metadata": {},
   "outputs": [],
   "source": [
    "import pandas as pd\n",
    "import os as os\n",
    "from openpyxl import load_workbook"
   ]
  },
  {
   "cell_type": "code",
   "execution_count": 2,
   "id": "520395b9-a369-4665-8bec-92aeaebad4ee",
   "metadata": {
    "scrolled": true
   },
   "outputs": [
    {
     "name": "stdout",
     "output_type": "stream",
     "text": [
      "Data received from Shirly Sun.\n",
      "Current date:  2024-05-20 05:07:13.969682\n",
      "Updated date:  2023-04-20 05:07:13.969682\n",
      "Updated date in format:  2023-04\n",
      "Des Row 1: 515\n",
      "Des Row 2: 516\n",
      "Source Data: [2418, 851]\n",
      "Source Value 1: 2418\n",
      "Source Value 2: 851\n",
      "Written 2418 to destination row 515, column 6\n",
      "Written 851 to destination row 516, column 6\n",
      "File have been updated successfully for 1120-83370-901050 and 1120-83370-901051.\n"
     ]
    }
   ],
   "source": [
    "print(\"Data received from Shirly Sun.\")\n",
    "from openpyxl import load_workbook\n",
    "from datetime import datetime, timedelta\n",
    "# File paths\n",
    "source_file_path = r\"Desktop\\Transport Volumes Monthly FY2024.xlsx\"\n",
    "destination_file_path = r\"Desktop\\Apr 2024 Consolidated Stats.xlsx\"\n",
    "# Open source and destination files\n",
    "source_wb = load_workbook(source_file_path)\n",
    "source_ws=source_ws = source_wb['Stat Summary'] \n",
    "destination_wb = load_workbook(destination_file_path)\n",
    "destination_ws=destination_ws = destination_wb['Journal Load Template']\n",
    "current_date = datetime.now()\n",
    "print(\"Current date: \",current_date)\n",
    "identifying_date = current_date.replace(year=current_date.year - 1, month=current_date.month - 1)\n",
    "print(\"Updated date: \",identifying_date)\n",
    "# Format identifying date as \"YYYY-MM\"\n",
    "identifying_date_str = identifying_date.strftime(\"%Y-%m\")\n",
    "print(\"Updated date in format: \",identifying_date_str)\n",
    "# Targeting the specified rows for writing values\n",
    "des_row_1 = None\n",
    "des_row_2 = None\n",
    "#Identifying the cells to the particular row where values from source file needs to be copied into.\\n\",\n",
    "id_1=1120\n",
    "id_2=83370\n",
    "id_3=901050\n",
    "id_4=901051\n",
    "# Find the rows for writing values in the destination file\n",
    "for row in destination_ws.iter_rows(min_row=2, max_row=destination_ws.max_row, min_col=1, max_col=3):\n",
    "    if row[0].value == id_1 and row[1].value == id_2:\n",
    "        if row[2].value == id_3:\n",
    "            des_row_1 = row[0].row\n",
    "            break\n",
    "for row in destination_ws.iter_rows(min_row=2, max_row=destination_ws.max_row, min_col=1, max_col=3):\n",
    "    if row[0].value == id_1 and row[1].value == id_2:\n",
    "        if row[2].value == id_4:\n",
    "            des_row_2 = row[0].row\n",
    "            break\n",
    "print(\"Des Row 1:\", des_row_1) #515\n",
    "print(\"Des Row 2:\", des_row_2) #516\n",
    "#Finding the column for the identifying date in the source file\n",
    "month_column = None\n",
    "for col in range(3, 14):\n",
    "    if source_ws.cell(row=32, column=col).value == identifying_date_str:\n",
    "        month_column = col\n",
    "        break\n",
    "# If month_column is found, fetch data from the corresponding rows\n",
    "source_data = None\n",
    "if month_column:\n",
    "    source_data = [source_ws.cell(row=33, column=month_column).value, source_ws.cell(row=34, column=month_column).value]\n",
    "print(\"Source Data:\", source_data)\n",
    "# Assigning source values to destination variables\n",
    "source_value_1 = source_data[0] if source_data else None\n",
    "source_value_2 = source_data[1] if source_data else None\n",
    "print(\"Source Value 1:\", source_value_1)\n",
    "print(\"Source Value 2:\", source_value_2)\n",
    "# Write values to destination cells and add debug prints to verify the writing process\n",
    "if des_row_1 and source_value_1 is not None:\n",
    "    destination_ws.cell(row=des_row_1, column=6).value = source_value_1\n",
    "    print(f\"Written {source_value_1} to destination row {des_row_1}, column 6\")\n",
    "if des_row_2 and source_value_2 is not None:\n",
    "    destination_ws.cell(row=des_row_2, column=6).value = source_value_2\n",
    "    print(f\"Written {source_value_2} to destination row {des_row_2}, column 6\")\n",
    "# Save destination file\n",
    "destination_wb.save(destination_file_path)\n",
    "# Close both workbooks\n",
    "source_wb.close()\n",
    "destination_wb.close()\n",
    "print(\"File have been updated successfully for 1120-83370-901050 and 1120-83370-901051.\")"
   ]
  },
  {
   "cell_type": "code",
   "execution_count": 11,
   "id": "487d4be4-c7f6-4d0c-a330-7f6ae9dd6a30",
   "metadata": {},
   "outputs": [
    {
     "name": "stdout",
     "output_type": "stream",
     "text": [
      "First destination row:  515\n",
      "Second destination row:  516\n",
      "Value at source file for account 901050:  2418\n",
      "Value at source file for account 901051:  851\n",
      "File have been updated successfully.\n"
     ]
    }
   ],
   "source": [
    "#Program to read values from one file and write in another file.\n",
    "file_s='Desktop\\Transport Volumes Monthly FY2024.xlsx'\n",
    "file_d='Desktop\\Apr 2024 Consolidated Stats.xlsx'\n",
    "#Opening Source file from where value is to be taken\n",
    "source_wb=load_workbook(file_s)\n",
    "source_ws=source_ws = source_wb['Stat Summary'] \n",
    "#Opening Destination file where value is to be written\n",
    "destination_wb=load_workbook(file_d)\n",
    "destination_ws=destination_ws = destination_wb['Journal Load Template']\n",
    "#Identifying the cells to the particular row where values from source file needs to be copied into.\\n\",\n",
    "id_1=1120\n",
    "id_2=83370\n",
    "id_3=901050\n",
    "id_4=901051\n",
    "#Initialising the destination rows.\n",
    "des_row_1=None\n",
    "des_row_2=None\n",
    "#Targeting the specified row into which the writing of the values needs to be done\n",
    "for row in destination_ws.iter_rows(min_row=2, max_row=destination_ws.max_row, min_col=1, max_col=3):\n",
    "       if row[0].value == id_1 and row[1].value == id_2:\n",
    "           if row[2].value == id_3:\n",
    "            des_row_1 = row[0].row\n",
    "            break\n",
    "print(\"First destination row: \",des_row_1)\n",
    "for row in destination_ws.iter_rows(min_row=2, max_row=destination_ws.max_row, min_col=1, max_col=3):\n",
    "       if row[0].value == id_1 and row[1].value == id_2:\n",
    "           if row[2].value == id_4:\n",
    "            des_row_2 = row[0].row\n",
    "            break\n",
    "print(\"Second destination row: \",des_row_2)\n",
    "\n",
    "#Saving the destination file\n",
    "destination_wb.save(file_d)\n",
    "#Close both workbooks\n",
    "source_wb.close()\n",
    "destination_wb.close()\n",
    "print(\"File have been updated successfully.\")"
   ]
  },
  {
   "cell_type": "code",
   "execution_count": null,
   "id": "280fe82b-c79f-4071-a4a2-a592a083b141",
   "metadata": {},
   "outputs": [],
   "source": []
  },
  {
   "cell_type": "code",
   "execution_count": null,
   "id": "48f40c47-9d56-4cf0-8cb1-771a21552797",
   "metadata": {},
   "outputs": [],
   "source": []
  }
 ],
 "metadata": {
  "kernelspec": {
   "display_name": "Python 3 (ipykernel)",
   "language": "python",
   "name": "python3"
  },
  "language_info": {
   "codemirror_mode": {
    "name": "ipython",
    "version": 3
   },
   "file_extension": ".py",
   "mimetype": "text/x-python",
   "name": "python",
   "nbconvert_exporter": "python",
   "pygments_lexer": "ipython3",
   "version": "3.11.7"
  }
 },
 "nbformat": 4,
 "nbformat_minor": 5
}
