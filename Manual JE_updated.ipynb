{
 "cells": [
  {
   "cell_type": "code",
   "execution_count": 16,
   "id": "5b7cc8b7-56df-432b-9506-6cf20e343972",
   "metadata": {},
   "outputs": [],
   "source": [
    "import pandas as pd\n",
    "import os as os\n",
    "from openpyxl import load_workbook"
   ]
  },
  {
   "cell_type": "code",
   "execution_count": 33,
   "id": "511ea48e-0825-401b-9a4b-96f605a62241",
   "metadata": {},
   "outputs": [
    {
     "name": "stdout",
     "output_type": "stream",
     "text": [
      "File have been updated successfully.\n"
     ]
    }
   ],
   "source": [
    "#Program to read values from one file and write in another file.\n",
    "file_s='Transport Volumes Monthly FY2024.xlsx'\n",
    "file_d='Apr 2024 Consolidated Stats.xlsx'\n",
    "#Opening Source file from where value is to be taken\n",
    "source_wb=load_workbook(file_s)\n",
    "source_ws=source_wb.active\n",
    "#Opening Destination file where value is to be written\n",
    "destination_wb=load_workbook(file_d)\n",
    "destination_ws=destination_wb.active\n",
    "#Identifying the cells to the particular row where values from source file needs to be copied into.\n",
    "id_1=1120\n",
    "id_2=83370\n",
    "id_3=901050\n",
    "id_4=901051\n",
    "#Initialising the destination rows.\n",
    "des_row_1=None\n",
    "des_row_2=None\n",
    "#Targeting the specified row into which the writing of the values needs to be done\n",
    "for row in destination_ws.iter_rows(min_row=2, max_row=destination_ws.max_row, min_col=1, max_col=3):\n",
    "    if row[0].value == id_1 and row[1].value == id_2 and row[2].value == id_3 :\n",
    "        des_row_1 = row[0].row\n",
    "        break\n",
    "for row in destination_ws.iter_rows(min_row=2, max_row=destination_ws.max_row, min_col=1, max_col=3):\n",
    "    if row[0].value == id_1 and row[1].value == id_2 and row[2].value == id_4 :\n",
    "        des_row_2 = row[0].row\n",
    "        break\n",
    "#For matching rows Values from source file are copied    \n",
    "if des_row_1:\n",
    "    source_value_1 = source_ws['L33'].value \n",
    "\n",
    "if des_row_2:\n",
    "    source_value_2 = source_ws['L34'].value \n",
    "#Writing values to destination cell\n",
    "destination_ws.cell(row=des_row_1, column=6).value = source_value_1\n",
    "destination_ws.cell(row=des_row_2, column=6).value = source_value_2\n",
    "#Saving the destination file\n",
    "destination_wb.save(file_d)\n",
    "#Close both workbooks\n",
    "source_wb.close()\n",
    "destination_wb.close()\n",
    "print(\"File have been updated successfully.\")"
   ]
  },
  {
   "cell_type": "code",
   "execution_count": null,
   "id": "7ec97f78-3a2c-4364-a9a4-db5d8b664a13",
   "metadata": {},
   "outputs": [],
   "source": []
  }
 ],
 "metadata": {
  "kernelspec": {
   "display_name": "Python 3 (ipykernel)",
   "language": "python",
   "name": "python3"
  },
  "language_info": {
   "codemirror_mode": {
    "name": "ipython",
    "version": 3
   },
   "file_extension": ".py",
   "mimetype": "text/x-python",
   "name": "python",
   "nbconvert_exporter": "python",
   "pygments_lexer": "ipython3",
   "version": "3.11.7"
  }
 },
 "nbformat": 4,
 "nbformat_minor": 5
}
