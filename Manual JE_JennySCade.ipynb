{
 "cells": [
  {
   "cell_type": "code",
   "execution_count": 3,
   "id": "8947ea62-2595-4105-a174-83808c78fe9f",
   "metadata": {},
   "outputs": [],
   "source": [
    "import pandas as pd\n",
    "import os as os\n",
    "from openpyxl import load_workbook"
   ]
  },
  {
   "cell_type": "code",
   "execution_count": 22,
   "id": "5193fdc2-a353-4c6a-848c-a03d1abd1739",
   "metadata": {},
   "outputs": [
    {
     "name": "stdout",
     "output_type": "stream",
     "text": [
      "Found 'Total' at row 16, source_value_1: 115959.09999999999, source_value_2: 115959.09999999999\n",
      "Destination row 1: 545\n",
      "Destination row 2: 546\n",
      "Value at source value 1: 115959.09999999999\n",
      "Value at source value 2: 115959.09999999999\n",
      "File have been updated successfully.\n"
     ]
    }
   ],
   "source": [
    "#Program to read values from one file and write in another file.\n",
    "file_s='Desktop\\\\2024 MRVU April.xlsx'\n",
    "file_d='Desktop\\\\Apr 2024 Consolidated Stats.xlsx'\n",
    "#Opening Source file from where value is to be taken\n",
    "source_wb=load_workbook(file_s,data_only=True)\n",
    "source_ws = source_wb['Sheet1']\n",
    "#Opening Destination file where value is to be written\n",
    "destination_wb=load_workbook(file_d)\n",
    "destination_ws = destination_wb['Journal Load Template']\n",
    "#Identifying the cells to the particular row where values from source file needs to be copied into.\\n\",\n",
    "id_1=5200\n",
    "id_2=21011\n",
    "id_3=903001\n",
    "id_4=933001\n",
    "#Initialising the destination rows.\n",
    "des_row_1=None\n",
    "des_row_2=None\n",
    "# Find the row in the source worksheet where column C has the value \"Total\"\n",
    "source_value_1 = None\n",
    "source_value_2 = None\n",
    "for row in source_ws.iter_rows(min_row=1, max_row=source_ws.max_row, min_col=3, max_col=3):\n",
    "    if row[0].value == \"Total\":\n",
    "        source_value_1 = source_ws.cell(row=row[0].row, column=4).value\n",
    "        source_value_2 = source_ws.cell(row=row[0].row, column=4).value  \n",
    "        print(f\"Found 'Total' at row {row[0].row}, source_value_1: {source_value_1}, source_value_2: {source_value_2}\")\n",
    "        break\n",
    "#Targeting the specified row into which the writing of the values needs to be done\n",
    "for row in destination_ws.iter_rows(min_row=2, max_row=destination_ws.max_row, min_col=1, max_col=3):\n",
    "    if row[0].value == id_1 and row[1].value == id_2:\n",
    "        if row[2].value == id_3:\n",
    "            des_row_1 = row[0].row\n",
    "            break\n",
    "for row in destination_ws.iter_rows(min_row=2, max_row=destination_ws.max_row, min_col=1, max_col=3):\n",
    "    if row[0].value == id_1 and row[1].value == id_2:\n",
    "        if row[2].value == id_4:\n",
    "            des_row_2 = row[0].row\n",
    "            break \n",
    "print(\"Destination row 1:\",des_row_1)\n",
    "print(\"Destination row 2:\",des_row_2)\n",
    "#For matching rows Values from source file are copied\n",
    "if des_row_1:\n",
    "        #source_value_1 = source_ws['D16'].value\n",
    "        destination_ws.cell(row=des_row_1, column=6).value = source_value_1\n",
    "print(\"Value at source value 1:\",source_value_1)\n",
    "if des_row_2:\n",
    "        #source_value_2 = source_ws['D16'].value\n",
    "        destination_ws.cell(row=des_row_2, column=6).value = source_value_2\n",
    "print(\"Value at source value 2:\",source_value_2)\n",
    "#Writing values to destination cell\n",
    "destination_ws.cell(row=des_row_1, column=6).value = source_value_1\n",
    "destination_ws.cell(row=des_row_2, column=6).value = source_value_2\n",
    "#Saving the destination file\n",
    "destination_wb.save(file_d)\n",
    "#Close both workbooks\n",
    "source_wb.close()\n",
    "destination_wb.close()\n",
    "print(\"File have been updated successfully.\")"
   ]
  },
  {
   "cell_type": "code",
   "execution_count": null,
   "id": "409c0cc8-6bff-4375-a419-13b10a80fb26",
   "metadata": {},
   "outputs": [],
   "source": []
  },
  {
   "cell_type": "code",
   "execution_count": null,
   "id": "3b098c53-67ae-4be5-ab21-949313e75ae0",
   "metadata": {},
   "outputs": [],
   "source": []
  }
 ],
 "metadata": {
  "kernelspec": {
   "display_name": "Python 3 (ipykernel)",
   "language": "python",
   "name": "python3"
  },
  "language_info": {
   "codemirror_mode": {
    "name": "ipython",
    "version": 3
   },
   "file_extension": ".py",
   "mimetype": "text/x-python",
   "name": "python",
   "nbconvert_exporter": "python",
   "pygments_lexer": "ipython3",
   "version": "3.11.7"
  }
 },
 "nbformat": 4,
 "nbformat_minor": 5
}
