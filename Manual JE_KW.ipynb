{
 "cells": [
  {
   "cell_type": "code",
   "execution_count": 1,
   "id": "1b770b44-de12-4982-a54c-748d465db632",
   "metadata": {},
   "outputs": [],
   "source": [
    "import pandas as pd\n",
    "import os as os\n",
    "from openpyxl import load_workbook"
   ]
  },
  {
   "cell_type": "code",
   "execution_count": 2,
   "id": "dab7930b-2821-4e28-96ee-bd42b35cb488",
   "metadata": {},
   "outputs": [
    {
     "name": "stdout",
     "output_type": "stream",
     "text": [
      "Data received from Kimberley Walker.\n",
      "Source value:  15.21\n",
      "File have been updated successfully for 5510-30171-900002.\n"
     ]
    }
   ],
   "source": [
    "print(\"Data received from Kimberley Walker.\")\n",
    "#Program to read values from one file and write in another file.\n",
    "file_s='Desktop\\OUTREACH RVU FY24.xlsx'\n",
    "file_d='Desktop\\Apr 2024 Consolidated Stats.xlsx'\n",
    "#Opening Source file from where value is to be taken\n",
    "source_wb=load_workbook(file_s,data_only=True)\n",
    "source_ws = source_wb['TOTAL RVU Apr 2024']\n",
    "#Opening Destination file where value is to be written\n",
    "destination_wb=load_workbook(file_d)\n",
    "destination_ws = destination_wb['Journal Load Template']\n",
    "#Identifying the cells to the particular row where values from source file needs to be copied into.\\n\",\n",
    "id_1=5510\n",
    "id_2=30171\n",
    "id_3=900002\n",
    "#Initialising the destination rows.\n",
    "des_row_1=None\n",
    "#Targeting the specified row into which the writing of the values needs to be done\n",
    "for row in destination_ws.iter_rows(min_row=2, max_row=destination_ws.max_row, min_col=1, max_col=3):\n",
    "       if row[0].value == id_1 and row[1].value == id_2 and row[2].value == id_3:\n",
    "            des_row_1 = row[0].row\n",
    "            break\n",
    "#For matching rows Values from source file are copied\n",
    "if des_row_1:\n",
    "        source_value_1 = source_ws['D60'].value \n",
    "print(\"Source value: \",source_value_1)\n",
    "#Writing values to destination cell\n",
    "destination_ws.cell(row=des_row_1, column=6).value = source_value_1\n",
    "#Saving the destination file\n",
    "destination_wb.save(file_d)\n",
    "#Close both workbooks\n",
    "source_wb.close()\n",
    "destination_wb.close()\n",
    "print(\"File have been updated successfully for 5510-30171-900002.\")"
   ]
  },
  {
   "cell_type": "code",
   "execution_count": null,
   "id": "9821cf66-cbfa-452e-8369-387d028d75c1",
   "metadata": {},
   "outputs": [],
   "source": []
  }
 ],
 "metadata": {
  "kernelspec": {
   "display_name": "Python 3 (ipykernel)",
   "language": "python",
   "name": "python3"
  },
  "language_info": {
   "codemirror_mode": {
    "name": "ipython",
    "version": 3
   },
   "file_extension": ".py",
   "mimetype": "text/x-python",
   "name": "python",
   "nbconvert_exporter": "python",
   "pygments_lexer": "ipython3",
   "version": "3.11.7"
  }
 },
 "nbformat": 4,
 "nbformat_minor": 5
}
