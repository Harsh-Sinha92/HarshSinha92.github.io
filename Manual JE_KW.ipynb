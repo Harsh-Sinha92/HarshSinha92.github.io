{
 "cells": [
  {
   "cell_type": "code",
   "execution_count": 1,
   "id": "1b770b44-de12-4982-a54c-748d465db632",
   "metadata": {},
   "outputs": [],
   "source": [
    "import pandas as pd\n",
    "import os as os\n",
    "from openpyxl import load_workbook\n",
    "from datetime import datetime,timedelta"
   ]
  },
  {
   "cell_type": "code",
   "execution_count": 2,
   "id": "dab7930b-2821-4e28-96ee-bd42b35cb488",
   "metadata": {},
   "outputs": [
    {
     "name": "stdout",
     "output_type": "stream",
     "text": [
      "Data received from Kimberley Walker.\n",
      "Current Directory after directory change:  C:\\Users\\user\\Desktop\n",
      "Files inside Directory:  ['2024 MRVU April.xlsx', 'Apr 2024 Consolidated Stats.xlsx', 'BUMC_FY24 Monthly Bed Report.xlsx', 'desktop.ini', 'Gen_AI Coed', 'HealthCare Basics.txt', 'Laundry_MASTER_FY2024.xlsx', 'Manual JE Codes', 'Mapping Tabs for Lawson v5-16-24.xlsx', 'Month End Numbers April 24.xlsx', 'OUTREACH RVU FY24.xlsx', 'pat April 2024 numbers.xlsx', 'Scorecard FY24(5140.10590).xlsx', 'TouchStone_RVUs-Extract.xlsx', 'Transport Volumes Monthly FY2024.xlsx']\n",
      "Constructed Source filename: OUTREACH RVU FY24.xlsx\n",
      "Constructed Destination filename: Apr 2024 Consolidated Stats.xlsx\n",
      "Source filename found in directory: OUTREACH RVU FY24.xlsx\n",
      "Destination filename found in directory: Apr 2024 Consolidated Stats.xlsx\n",
      "Source value:  15.21\n",
      "File have been updated successfully for 5510-30171-900002.\n"
     ]
    }
   ],
   "source": [
    "print(\"Data received from Kimberley Walker.\")\n",
    "#Program to read values from one file and write in another file.\n",
    "current_dir=os.getcwd\n",
    "new_dir=r'C:\\\\Users\\\\user\\\\Desktop'\n",
    "os.chdir(new_dir)\n",
    "current_dir=os.getcwd()\n",
    "print(\"Current Directory after directory change: \",current_dir)\n",
    "Files_inside_dir=os.listdir()\n",
    "print(\"Files inside Directory: \",Files_inside_dir)\n",
    "# Get the current month and year\n",
    "current_date = datetime.now()\n",
    "# Calculate the previous month\n",
    "prev_month_date = current_date.replace(day=1)- timedelta(days=1) \n",
    "prev_month = prev_month_date.strftime(\"%B\") \n",
    "prev_month_short = prev_month_date.strftime(\"%b\") \n",
    "current_year = current_date.strftime(\"%Y\")\n",
    "current_year_short = current_date.strftime(\"%y\")\n",
    "# Construct the Destination and source filename\n",
    "file_s = f\"OUTREACH RVU FY{current_year_short}.xlsx\" #Kimberly Walker\n",
    "file_d = f\"{prev_month_short} {current_year} Consolidated Stats.xlsx\"\n",
    "print(\"Constructed Source filename:\", file_s)\n",
    "print(\"Constructed Destination filename:\", file_d)\n",
    "# Check if the constructed filenames are in the directory\n",
    "if file_s in Files_inside_dir:\n",
    "    print(\"Source filename found in directory:\", file_s)\n",
    "else:\n",
    "    print(\"Source filename not found in directory.\")\n",
    "if file_d in Files_inside_dir:\n",
    "    print(\"Destination filename found in directory:\", file_d)\n",
    "else:\n",
    "    print(\"Destination filename not found in directory.\")\n",
    "#Opening Source file from where value is to be taken\n",
    "source_wb=load_workbook(file_s,data_only=True)\n",
    "source_ws = source_wb['TOTAL RVU Apr 2024']\n",
    "#Opening Destination file where value is to be written\n",
    "destination_wb=load_workbook(file_d)\n",
    "destination_ws = destination_wb['Journal Load Template']\n",
    "#Identifying the cells to the particular row where values from source file needs to be copied into.\\n\",\n",
    "id_1=5510\n",
    "id_2=30171\n",
    "id_3=900002\n",
    "#Initialising the destination rows.\n",
    "des_row_1=None\n",
    "#Targeting the specified row into which the writing of the values needs to be done\n",
    "for row in destination_ws.iter_rows(min_row=2, max_row=destination_ws.max_row, min_col=1, max_col=3):\n",
    "       if row[0].value == id_1 and row[1].value == id_2 and row[2].value == id_3:\n",
    "            des_row_1 = row[0].row\n",
    "            break\n",
    "#For matching rows Values from source file are copied\n",
    "if des_row_1:\n",
    "        source_value_1 = source_ws['D60'].value \n",
    "print(\"Source value: \",source_value_1)\n",
    "#Writing values to destination cell\n",
    "destination_ws.cell(row=des_row_1, column=6).value = source_value_1\n",
    "#Saving the destination file\n",
    "destination_wb.save(file_d)\n",
    "#Close both workbooks\n",
    "source_wb.close()\n",
    "destination_wb.close()\n",
    "print(\"File have been updated successfully for 5510-30171-900002.\")"
   ]
  },
  {
   "cell_type": "code",
   "execution_count": null,
   "id": "9821cf66-cbfa-452e-8369-387d028d75c1",
   "metadata": {},
   "outputs": [],
   "source": []
  }
 ],
 "metadata": {
  "kernelspec": {
   "display_name": "Python 3 (ipykernel)",
   "language": "python",
   "name": "python3"
  },
  "language_info": {
   "codemirror_mode": {
    "name": "ipython",
    "version": 3
   },
   "file_extension": ".py",
   "mimetype": "text/x-python",
   "name": "python",
   "nbconvert_exporter": "python",
   "pygments_lexer": "ipython3",
   "version": "3.11.7"
  }
 },
 "nbformat": 4,
 "nbformat_minor": 5
}
